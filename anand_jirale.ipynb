{
  "cells": [
    {
      "cell_type": "code",
      "source": [
        "# Hello Good Evening,How are you , i'm fine, Where are you from i' from chikodi, so nice\n",
        "\n",
        "text=\"Good Evening\"\n",
        "address=\"I'm from chikodi\""
      ],
      "metadata": {
        "id": "UcpQBDa9L-dG"
      },
      "execution_count": 89,
      "outputs": []
    },
    {
      "cell_type": "code",
      "source": [],
      "metadata": {
        "id": "hsT0Bsy2OGLU"
      },
      "execution_count": null,
      "outputs": []
    },
    {
      "cell_type": "code",
      "source": [
        "#I have completed PUC in sanketh Pu College in the year of 2020,i got percentage is 85.33\n",
        "\n",
        "Name=\"Sanketh\"\n",
        "per=85.33\n",
        "Year=2020\n",
        "\n",
        "print(\"I have completed PUC in\",Name,\"Pu College in the year of\",Year,\"i got percentage is\",per)\n"
      ],
      "metadata": {
        "colab": {
          "base_uri": "https://localhost:8080/",
          "height": 193
        },
        "id": "gf5MsaWzHs1B",
        "outputId": "bf7ae240-e355-49aa-cf11-cea75a7d1faa"
      },
      "execution_count": 73,
      "outputs": [
        {
          "output_type": "error",
          "ename": "TypeError",
          "evalue": "'str' object is not callable",
          "traceback": [
            "\u001b[0;31m---------------------------------------------------------------------------\u001b[0m",
            "\u001b[0;31mTypeError\u001b[0m                                 Traceback (most recent call last)",
            "\u001b[0;32m/tmp/ipython-input-2081080565.py\u001b[0m in \u001b[0;36m<cell line: 0>\u001b[0;34m()\u001b[0m\n\u001b[1;32m      5\u001b[0m \u001b[0mYear\u001b[0m\u001b[0;34m=\u001b[0m\u001b[0;36m2020\u001b[0m\u001b[0;34m\u001b[0m\u001b[0;34m\u001b[0m\u001b[0m\n\u001b[1;32m      6\u001b[0m \u001b[0;34m\u001b[0m\u001b[0m\n\u001b[0;32m----> 7\u001b[0;31m \u001b[0mprint\u001b[0m\u001b[0;34m(\u001b[0m\u001b[0;34m\"I have completed PUC in\"\u001b[0m\u001b[0;34m,\u001b[0m\u001b[0mName\u001b[0m\u001b[0;34m,\u001b[0m\u001b[0;34m\"Pu College in the year of\"\u001b[0m\u001b[0;34m,\u001b[0m\u001b[0mYear\u001b[0m\u001b[0;34m,\u001b[0m\u001b[0;34m\"i got percentage is\"\u001b[0m\u001b[0;34m,\u001b[0m\u001b[0mper\u001b[0m\u001b[0;34m)\u001b[0m\u001b[0;34m\u001b[0m\u001b[0;34m\u001b[0m\u001b[0m\n\u001b[0m",
            "\u001b[0;31mTypeError\u001b[0m: 'str' object is not callable"
          ]
        }
      ]
    },
    {
      "cell_type": "code",
      "source": [
        "print(\"good moring\\n\"*10)"
      ],
      "metadata": {
        "colab": {
          "base_uri": "https://localhost:8080/"
        },
        "id": "mPuOAxJh4mGt",
        "outputId": "b4fc8a34-7854-477d-f32c-0b232e88a406"
      },
      "execution_count": 26,
      "outputs": [
        {
          "output_type": "stream",
          "name": "stdout",
          "text": [
            "good moring\n",
            "good moring\n",
            "good moring\n",
            "good moring\n",
            "good moring\n",
            "good moring\n",
            "good moring\n",
            "good moring\n",
            "good moring\n",
            "good moring\n",
            "\n"
          ]
        }
      ]
    },
    {
      "cell_type": "code",
      "source": [
        "#My name is anand,i'm studying in BKC College\n",
        "\n",
        "College=\"BKC College\"\n",
        "Name=\"Anand\""
      ],
      "metadata": {
        "id": "tUWfXNOlD4fN"
      },
      "execution_count": 69,
      "outputs": []
    },
    {
      "cell_type": "code",
      "source": [],
      "metadata": {
        "id": "O4Mladj1Hzv9"
      },
      "execution_count": null,
      "outputs": []
    },
    {
      "cell_type": "code",
      "source": [],
      "metadata": {
        "id": "pkeb_YOQGrBM"
      },
      "execution_count": null,
      "outputs": []
    },
    {
      "cell_type": "code",
      "source": [
        "print(\"python programming languge\\n\"*5)"
      ],
      "metadata": {
        "colab": {
          "base_uri": "https://localhost:8080/"
        },
        "id": "86Cv93Dv1JAm",
        "outputId": "35075cb5-52a2-4688-d21a-15618f9d5e4b"
      },
      "execution_count": 15,
      "outputs": [
        {
          "output_type": "stream",
          "name": "stdout",
          "text": [
            "python programming languge\n",
            "python programming languge\n",
            "python programming languge\n",
            "python programming languge\n",
            "python programming languge\n",
            "\n"
          ]
        }
      ]
    },
    {
      "cell_type": "code",
      "source": [
        "print(100*45/35)"
      ],
      "metadata": {
        "colab": {
          "base_uri": "https://localhost:8080/"
        },
        "id": "9R6b_bKQ0_sm",
        "outputId": "d202cfcd-0f0a-4be1-f81b-e6246914f826"
      },
      "execution_count": 14,
      "outputs": [
        {
          "output_type": "stream",
          "name": "stdout",
          "text": [
            "128.57142857142858\n"
          ]
        }
      ]
    },
    {
      "cell_type": "code",
      "source": [
        "print(100/3)"
      ],
      "metadata": {
        "colab": {
          "base_uri": "https://localhost:8080/"
        },
        "id": "9cowymrK0kGf",
        "outputId": "c3e2d40f-44b4-4cce-cab1-691f23e9c5a3"
      },
      "execution_count": 13,
      "outputs": [
        {
          "output_type": "stream",
          "name": "stdout",
          "text": [
            "33.333333333333336\n"
          ]
        }
      ]
    },
    {
      "cell_type": "code",
      "source": [
        "print(\"Hello word\"*3)"
      ],
      "metadata": {
        "colab": {
          "base_uri": "https://localhost:8080/"
        },
        "id": "5HWMjdKLz-aP",
        "outputId": "89f0fe36-3ecd-442e-e8e8-a798f2dfc02b"
      },
      "execution_count": 11,
      "outputs": [
        {
          "output_type": "stream",
          "name": "stdout",
          "text": [
            "Hello wordHello wordHello word\n"
          ]
        }
      ]
    },
    {
      "cell_type": "code",
      "source": [
        "a=10\n",
        "print(a)"
      ],
      "metadata": {
        "colab": {
          "base_uri": "https://localhost:8080/"
        },
        "id": "qmGkXX41y0Ch",
        "outputId": "1d2d7058-a90e-4db6-abb3-fe05f6233f04"
      },
      "execution_count": 10,
      "outputs": [
        {
          "output_type": "stream",
          "name": "stdout",
          "text": [
            "10\n"
          ]
        }
      ]
    },
    {
      "cell_type": "code",
      "source": [
        "print(5+5)"
      ],
      "metadata": {
        "colab": {
          "base_uri": "https://localhost:8080/"
        },
        "id": "VOhRja4YZVnx",
        "outputId": "226f110c-4d78-408d-c6dd-fde049460c41"
      },
      "execution_count": 9,
      "outputs": [
        {
          "output_type": "stream",
          "name": "stdout",
          "text": [
            "10\n"
          ]
        }
      ]
    },
    {
      "cell_type": "code",
      "source": [
        "print(\"anand m jirale\")"
      ],
      "metadata": {
        "colab": {
          "base_uri": "https://localhost:8080/"
        },
        "id": "t-FBv5qtYPXp",
        "outputId": "891db452-fad9-4d9f-de34-40e0c5aa5e5e"
      },
      "execution_count": 8,
      "outputs": [
        {
          "output_type": "stream",
          "name": "stdout",
          "text": [
            "anand m jirale\n"
          ]
        }
      ]
    },
    {
      "cell_type": "code",
      "source": [
        "print(\"bk puc college chikodi\")"
      ],
      "metadata": {
        "colab": {
          "base_uri": "https://localhost:8080/"
        },
        "id": "yMaVPqJSXzDS",
        "outputId": "34a9a56d-f0ae-4a6b-b1bc-680951f0dadc"
      },
      "execution_count": 7,
      "outputs": [
        {
          "output_type": "stream",
          "name": "stdout",
          "text": [
            "bk puc college chikodi\n"
          ]
        }
      ]
    },
    {
      "cell_type": "code",
      "source": [
        "print(\"bk bca college chikodi\")"
      ],
      "metadata": {
        "colab": {
          "base_uri": "https://localhost:8080/"
        },
        "id": "YslUXSmJXVJB",
        "outputId": "9b82a75c-b160-45c0-b923-3e1d19eaba0c"
      },
      "execution_count": 5,
      "outputs": [
        {
          "output_type": "stream",
          "name": "stdout",
          "text": [
            "bk bca college chikodi\n"
          ]
        }
      ]
    },
    {
      "cell_type": "code",
      "source": [
        "print(\"good morning\")"
      ],
      "metadata": {
        "colab": {
          "base_uri": "https://localhost:8080/"
        },
        "id": "oT4BOTkhXNg5",
        "outputId": "157f2907-c560-4214-9517-d23f869ba4fe"
      },
      "execution_count": 4,
      "outputs": [
        {
          "output_type": "stream",
          "name": "stdout",
          "text": [
            "good morning\n"
          ]
        }
      ]
    },
    {
      "cell_type": "code",
      "source": [
        "print(\"anand\")"
      ],
      "metadata": {
        "colab": {
          "base_uri": "https://localhost:8080/"
        },
        "id": "1ZsoHKGAWHPq",
        "outputId": "b2c28f81-946b-4758-98e4-22351980bf26"
      },
      "execution_count": 1,
      "outputs": [
        {
          "output_type": "stream",
          "name": "stdout",
          "text": [
            "anand\n"
          ]
        }
      ]
    },
    {
      "cell_type": "code",
      "source": [
        "# Hello Good Evening,How are you , i'm fine, Where are you from i' from chikodi, so nice\n",
        "\n",
        "text=\"Good Evening\"\n",
        "address=\"I'm from chikodi\"\n",
        "\n",
        "print"
      ],
      "metadata": {
        "id": "2JQSvXENOH3K"
      },
      "execution_count": 91,
      "outputs": []
    }
  ],
  "metadata": {
    "colab": {
      "provenance": []
    },
    "kernelspec": {
      "display_name": "Python 3",
      "name": "python3"
    }
  },
  "nbformat": 4,
  "nbformat_minor": 0
}